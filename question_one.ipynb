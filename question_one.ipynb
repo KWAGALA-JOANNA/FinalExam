{
 "cells": [
  {
   "cell_type": "code",
   "execution_count": 1,
   "metadata": {},
   "outputs": [],
   "source": [
    "# importing numpy library\n",
    "import numpy as np"
   ]
  },
  {
   "cell_type": "markdown",
   "metadata": {},
   "source": [
    "Compute an inversion of a matrix"
   ]
  },
  {
   "cell_type": "code",
   "execution_count": 4,
   "metadata": {},
   "outputs": [
    {
     "data": {
      "text/plain": [
       "array([[1. , 0.2, 0.5],\n",
       "       [0.2, 1. , 0.8],\n",
       "       [0.5, 0.8, 1. ]])"
      ]
     },
     "execution_count": 4,
     "metadata": {},
     "output_type": "execute_result"
    }
   ],
   "source": [
    "# let matrix be A\n",
    "A = np.array([[1,0.2,0.5], [0.2, 1, 0.8], [0.5, 0.8, 1]])\n",
    "A"
   ]
  },
  {
   "cell_type": "code",
   "execution_count": 6,
   "metadata": {},
   "outputs": [
    {
     "name": "stdout",
     "output_type": "stream",
     "text": [
      "Inversion of matrix A is: [[1.  0.2 0.5]\n",
      " [0.2 1.  0.8]\n",
      " [0.5 0.8 1. ]]\n"
     ]
    }
   ],
   "source": [
    "# computing the inversion of a matrix\n",
    "A_transpose=A.T\n",
    "print(f'Inversion of matrix A is: {A_transpose}')"
   ]
  },
  {
   "cell_type": "markdown",
   "metadata": {},
   "source": [
    "Compute the determinant of the matrix"
   ]
  },
  {
   "cell_type": "code",
   "execution_count": 9,
   "metadata": {},
   "outputs": [
    {
     "name": "stdout",
     "output_type": "stream",
     "text": [
      "0.2299999999999999 is the determinant of the matrix\n"
     ]
    }
   ],
   "source": [
    "# computing the determinant of the matrix\n",
    "A_det = np.linalg.det(A)\n",
    "print(f'{A_det} is the determinant of the matrix')"
   ]
  },
  {
   "cell_type": "code",
   "execution_count": null,
   "metadata": {},
   "outputs": [],
   "source": []
  },
  {
   "cell_type": "markdown",
   "metadata": {},
   "source": [
    "Decomposing the matrix"
   ]
  },
  {
   "cell_type": "code",
   "execution_count": 10,
   "metadata": {},
   "outputs": [],
   "source": [
    "# Matrix decomposition of matrix A\n",
    "from scipy.linalg import lu"
   ]
  },
  {
   "cell_type": "code",
   "execution_count": 12,
   "metadata": {},
   "outputs": [
    {
     "name": "stdout",
     "output_type": "stream",
     "text": [
      "L is [[1.         0.         0.        ]\n",
      " [0.2        1.         0.        ]\n",
      " [0.5        0.72916667 1.        ]] and U is [[1.         0.2        0.5       ]\n",
      " [0.         0.96       0.7       ]\n",
      " [0.         0.         0.23958333]]\n"
     ]
    }
   ],
   "source": [
    "# performing an LU decomposition\n",
    "A = np.array([[1,0.2,0.5], [0.2, 1, 0.8], [0.5, 0.8, 1]])\n",
    "L,U = lu(A, True)\n",
    "print(f'L is {L} and U is {U}')"
   ]
  },
  {
   "cell_type": "code",
   "execution_count": 13,
   "metadata": {},
   "outputs": [],
   "source": [
    "# perfoming a QR decomposition\n",
    "from scipy.linalg import qr"
   ]
  },
  {
   "cell_type": "code",
   "execution_count": 14,
   "metadata": {},
   "outputs": [
    {
     "name": "stdout",
     "output_type": "stream",
     "text": [
      "Q is [[-0.88045091  0.38615039 -0.27512557]\n",
      " [-0.17609018 -0.80507368 -0.566435  ]\n",
      " [-0.44022545 -0.4502713   0.77682515]] and R is [[-1.13578167 -0.70436073 -1.02132305]\n",
      " [ 0.         -1.08806065 -0.90125505]\n",
      " [ 0.          0.          0.18611436]]\n"
     ]
    }
   ],
   "source": [
    "A = np.array([[1,0.2,0.5], [0.2, 1, 0.8], [0.5, 0.8, 1]])\n",
    "Q,R= qr(A, True)\n",
    "print(f'Q is {Q} and R is {R}')"
   ]
  },
  {
   "cell_type": "markdown",
   "metadata": {},
   "source": [
    "d. matrix transformation"
   ]
  },
  {
   "cell_type": "code",
   "execution_count": 19,
   "metadata": {},
   "outputs": [
    {
     "name": "stdout",
     "output_type": "stream",
     "text": [
      "The transformation matrix of A is:[[-0.2  1.   0.5]\n",
      " [-1.   0.2  0.8]\n",
      " [-0.8  0.5  1. ]]\n"
     ]
    }
   ],
   "source": [
    "import numpy as np\n",
    "import scipy\n",
    "A = np.array([[1,0.2,0.5], [0.2, 1, 0.8], [0.5, 0.8, 1]])\n",
    "# rotating a matrix at an angle of 90 degrees\n",
    "rotation_degrees = 90\n",
    "rotation_radians = np.radians(rotation_degrees)\n",
    "# transforming the matrix on the x, y and z axis\n",
    "rotation_axis = np.array([0, 0, 1])\n",
    "\n",
    "rotation_matrix = rotation_radians * rotation_axis\n",
    "rotation = scipy.spatial.transform.Rotation.from_rotvec(rotation_matrix)\n",
    "rotated_matrix = rotation.apply(A)\n",
    " \n",
    "print(f'The transformation matrix of A is:{rotated_vector}')"
   ]
  }
 ],
 "metadata": {
  "kernelspec": {
   "display_name": "base",
   "language": "python",
   "name": "python3"
  },
  "language_info": {
   "codemirror_mode": {
    "name": "ipython",
    "version": 3
   },
   "file_extension": ".py",
   "mimetype": "text/x-python",
   "name": "python",
   "nbconvert_exporter": "python",
   "pygments_lexer": "ipython3",
   "version": "3.11.4"
  }
 },
 "nbformat": 4,
 "nbformat_minor": 2
}
