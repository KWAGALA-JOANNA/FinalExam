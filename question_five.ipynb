{
 "cells": [
  {
   "cell_type": "markdown",
   "metadata": {},
   "source": [
    "Python program to solve three linea equations using matrix"
   ]
  },
  {
   "cell_type": "code",
   "execution_count": 6,
   "metadata": {},
   "outputs": [],
   "source": [
    "import numpy as np"
   ]
  },
  {
   "cell_type": "code",
   "execution_count": 5,
   "metadata": {},
   "outputs": [
    {
     "name": "stdout",
     "output_type": "stream",
     "text": [
      "Solution:\n",
      "x = 5.199999999999998\n",
      "y = -7.599999999999997\n",
      "z = -12.399999999999995\n"
     ]
    }
   ],
   "source": [
    "# Equation one 3x+4y-2z=10\n",
    "# equation two 5x+4y-z=8\n",
    "# equation three x-8y+5z=4\n",
    "# Coefficients of x. y and z forming a matrix A\n",
    "A = np.array([[3, 4, -2],\n",
    "              [5, 4, -1],\n",
    "              [1, -8, 5]])\n",
    "\n",
    "# Constants of the three equations\n",
    "B = np.array([10, 8, 4])\n",
    "\n",
    "# Solving the equation using np.linalg.solve\n",
    "X = np.linalg.solve(A, B)\n",
    "\n",
    "# Print the solution\n",
    "print(\"The values of x,y and z are:\")\n",
    "print(\"x =\", X[0]) #indexing x\n",
    "print(\"y =\", X[1]) # indexing y\n",
    "print(\"z =\", X[2]) #indexing z\n"
   ]
  }
 ],
 "metadata": {
  "kernelspec": {
   "display_name": "base",
   "language": "python",
   "name": "python3"
  },
  "language_info": {
   "codemirror_mode": {
    "name": "ipython",
    "version": 3
   },
   "file_extension": ".py",
   "mimetype": "text/x-python",
   "name": "python",
   "nbconvert_exporter": "python",
   "pygments_lexer": "ipython3",
   "version": "3.11.4"
  }
 },
 "nbformat": 4,
 "nbformat_minor": 2
}
